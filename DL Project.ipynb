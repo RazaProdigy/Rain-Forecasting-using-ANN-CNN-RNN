{
 "cells": [
  {
   "cell_type": "markdown",
   "metadata": {},
   "source": [
    "# 1. Data Preprocessing"
   ]
  },
  {
   "cell_type": "markdown",
   "metadata": {},
   "source": [
    "## A. Importing the dataset"
   ]
  },
  {
   "cell_type": "code",
   "execution_count": null,
   "metadata": {},
   "outputs": [],
   "source": [
    "import pandas as pd"
   ]
  },
  {
   "cell_type": "code",
   "execution_count": null,
   "metadata": {},
   "outputs": [],
   "source": [
    "dataset = pd.read_csv('weatherAUS.csv')\n",
    "dataset.head(5)"
   ]
  },
  {
   "cell_type": "markdown",
   "metadata": {},
   "source": [
    "## B. Visualising and correcting the data"
   ]
  },
  {
   "cell_type": "markdown",
   "metadata": {},
   "source": [
    "#### Firstly, we'll remove all rows with no labels"
   ]
  },
  {
   "cell_type": "code",
   "execution_count": null,
   "metadata": {},
   "outputs": [],
   "source": [
    "print('Length before dropping nulls: ', len(dataset))\n",
    "dataset.dropna(subset = [\"RainTomorrow\"], inplace = True)\n",
    "print('Length after dropping nulls: ', len(dataset))"
   ]
  },
  {
   "cell_type": "markdown",
   "metadata": {},
   "source": [
    "#### Secondly, we'll check if our data is balanced"
   ]
  },
  {
   "cell_type": "code",
   "execution_count": null,
   "metadata": {},
   "outputs": [],
   "source": [
    "import matplotlib.pyplot as plt\n",
    "import numpy as np"
   ]
  },
  {
   "cell_type": "code",
   "execution_count": null,
   "metadata": {},
   "outputs": [],
   "source": [
    "rt = dataset.iloc[:, -2].values\n",
    "numNo = np.count_nonzero(rt == 'No')\n",
    "numYes = np.count_nonzero(rt == 'Yes')"
   ]
  },
  {
   "cell_type": "code",
   "execution_count": null,
   "metadata": {},
   "outputs": [],
   "source": [
    "fig, ax = plt.subplots(figsize = (6,8))\n",
    "plt.style.use('seaborn')\n",
    "plt.bar(['No', 'Yes'], [numNo, numYes])"
   ]
  },
  {
   "cell_type": "code",
   "execution_count": null,
   "metadata": {},
   "outputs": [],
   "source": [
    "dataset['RainTomorrow'][:10]"
   ]
  },
  {
   "cell_type": "markdown",
   "metadata": {},
   "source": [
    "As we can see, our dataset is imbalanced. There is a split of nearly 77:23 for the classes No/Yes (after removing all nulls).\n",
    "\n",
    "We'll look at over/under sampling our dataset later."
   ]
  },
  {
   "cell_type": "markdown",
   "metadata": {},
   "source": [
    "#### Next, we can label encode our labels (RainTomorrow) to 0 for No and 1 for Yes"
   ]
  },
  {
   "cell_type": "code",
   "execution_count": null,
   "metadata": {},
   "outputs": [],
   "source": [
    "dataset.head()"
   ]
  },
  {
   "cell_type": "code",
   "execution_count": null,
   "metadata": {},
   "outputs": [],
   "source": [
    "from sklearn.preprocessing import LabelEncoder\n",
    "le = LabelEncoder()\n",
    "dataset.iloc[:, -1] = le.fit_transform(dataset.iloc[:, -1])\n",
    "dataset.iloc[:10,-1]\n"
   ]
  },
  {
   "cell_type": "code",
   "execution_count": null,
   "metadata": {},
   "outputs": [],
   "source": [
    "dataset['RainToday'] = dataset['RainToday'].astype('category')\n",
    "dataset['RainToday'] = dataset['RainToday'].cat.codes\n",
    "dataset.head(10)"
   ]
  },
  {
   "cell_type": "markdown",
   "metadata": {},
   "source": [
    "#### Let's look at our feature columns and calculate the missing data"
   ]
  },
  {
   "cell_type": "code",
   "execution_count": null,
   "metadata": {},
   "outputs": [],
   "source": [
    "import seaborn"
   ]
  },
  {
   "cell_type": "code",
   "execution_count": null,
   "metadata": {},
   "outputs": [],
   "source": [
    "numMissing = dataset.isnull().sum()\n",
    "perMissing = numMissing/dataset.shape[0] * 100\n",
    "df = {\n",
    "    'Number of missing values' : numMissing,\n",
    "    'Percentage of missing values' : perMissing,\n",
    "    'Datatype' : dataset.dtypes\n",
    "}\n",
    "df = pd.DataFrame(df)\n",
    "df"
   ]
  },
  {
   "cell_type": "markdown",
   "metadata": {},
   "source": [
    "As we can see, 'Evaporation', 'Sunshine', 'Cloud9am', and 'Cloud3pm' have a very high percentage of missing values. We can try fitting them using mean or median imputation. "
   ]
  },
  {
   "cell_type": "markdown",
   "metadata": {},
   "source": [
    "#### Choosing between mean/median imputation by plotting the outliers"
   ]
  },
  {
   "cell_type": "code",
   "execution_count": null,
   "metadata": {},
   "outputs": [],
   "source": [
    "boxplot = dataset.boxplot(column = ['Evaporation'])"
   ]
  },
  {
   "cell_type": "code",
   "execution_count": null,
   "metadata": {},
   "outputs": [],
   "source": [
    "dataset.boxplot(column = ['Sunshine', 'Cloud9am', 'Cloud3pm'])"
   ]
  },
  {
   "cell_type": "markdown",
   "metadata": {},
   "source": [
    "As we can see, the 'Evaporation' column has many outliers, whereas 'Sunshine', 'Cloud9am', and 'Cloud3pm' have no outliers. \n",
    "\n",
    "Thus, we can use median imputation for the missing values in the 'Evaporation' column, since outliers have little effect on medians. Mean Imputation will work well when there are no outliers.\n",
    "\n",
    "Moreover, for better accuracy, we will set the median of each missing value to the median of the Evaporation column in each town."
   ]
  },
  {
   "cell_type": "code",
   "execution_count": null,
   "metadata": {},
   "outputs": [],
   "source": [
    "dataset.describe()"
   ]
  },
  {
   "cell_type": "code",
   "execution_count": null,
   "metadata": {},
   "outputs": [],
   "source": [
    "dataset['Sunshine'] = dataset['Sunshine'].fillna(dataset['Sunshine'].mean())\n",
    "dataset['Cloud9am'] = dataset['Cloud9am'].fillna(dataset['Cloud9am'].mean())\n",
    "dataset['Cloud3pm'] = dataset['Cloud3pm'].fillna(dataset['Cloud3pm'].mean())\n",
    "dataset['Evaporation'] = dataset['Evaporation'].fillna(dataset['Evaporation'].median())"
   ]
  },
  {
   "cell_type": "markdown",
   "metadata": {},
   "source": [
    "#### Filling in the rest of the columns' missing data with the median data"
   ]
  },
  {
   "cell_type": "code",
   "execution_count": null,
   "metadata": {},
   "outputs": [],
   "source": [
    "dataset['MinTemp'] = dataset['MinTemp'].fillna(dataset['MinTemp'].median())\n",
    "dataset['MaxTemp'] = dataset['MaxTemp'].fillna(dataset['MaxTemp'].median())\n",
    "dataset['Rainfall'] = dataset['Rainfall'].fillna(dataset['Rainfall'].median())\n",
    "dataset['WindGustSpeed'] = dataset['WindGustSpeed'].fillna(dataset['WindGustSpeed'].median())\n",
    "dataset['WindSpeed9am'] = dataset['WindSpeed9am'].fillna(dataset['WindSpeed9am'].median())\n",
    "dataset['WindSpeed3pm'] = dataset['WindSpeed3pm'].fillna(dataset['WindSpeed3pm'].median())\n",
    "dataset['Humidity9am'] = dataset['Humidity9am'].fillna(dataset['Humidity9am'].median())\n",
    "dataset['Humidity3pm'] = dataset['Humidity3pm'].fillna(dataset['Humidity3pm'].median())\n",
    "dataset['Pressure9am'] = dataset['Pressure9am'].fillna(dataset['Pressure9am'].median())\n",
    "dataset['Pressure3pm'] = dataset['Pressure3pm'].fillna(dataset['Pressure3pm'].median())\n",
    "dataset['Temp9am'] = dataset['Temp9am'].fillna(dataset['Temp9am'].median())\n",
    "dataset['Temp3pm'] = dataset['Temp3pm'].fillna(dataset['Temp3pm'].median())"
   ]
  },
  {
   "cell_type": "markdown",
   "metadata": {},
   "source": [
    "#### Filling in RainToday and WindDir columns missing data with the mode "
   ]
  },
  {
   "cell_type": "code",
   "execution_count": null,
   "metadata": {},
   "outputs": [],
   "source": [
    "dataset['RainToday'] = dataset['RainToday'].fillna(dataset['RainToday'].mode()[0])\n",
    "dataset['WindDir9am'] = dataset['WindDir9am'].fillna(dataset['WindDir9am'].mode()[0])\n",
    "dataset['WindGustDir'] = dataset['WindGustDir'].fillna(dataset['WindGustDir'].mode()[0])\n",
    "dataset['WindDir3pm'] = dataset['WindDir3pm'].fillna(dataset['WindDir3pm'].mode()[0])"
   ]
  },
  {
   "cell_type": "code",
   "execution_count": null,
   "metadata": {},
   "outputs": [],
   "source": [
    "numMissing = dataset.isnull().sum()\n",
    "perMissing = numMissing/dataset.shape[0] * 100\n",
    "df = {\n",
    "    'Number of missing values' : numMissing,\n",
    "    'Percentage of missing values' : perMissing,\n",
    "    'Datatype' : dataset.dtypes\n",
    "}\n",
    "df = pd.DataFrame(df)\n",
    "df"
   ]
  },
  {
   "cell_type": "markdown",
   "metadata": {},
   "source": [
    "Our data doesn't contain anymore null values."
   ]
  },
  {
   "cell_type": "markdown",
   "metadata": {},
   "source": [
    "#### Printing the correlation matrix"
   ]
  },
  {
   "cell_type": "code",
   "execution_count": null,
   "metadata": {},
   "outputs": [],
   "source": [
    "import seaborn\n",
    "correlationMatrix = dataset.corr()\n",
    "map = seaborn.diverging_palette(260, -10, as_cmap = True)\n",
    "plt.subplots(figsize = (13, 13))\n",
    "plt.title('Correlation Matrix')\n",
    "seaborn.heatmap(correlationMatrix, cmap = map, annot = True, square = True)"
   ]
  },
  {
   "cell_type": "markdown",
   "metadata": {},
   "source": [
    "We'll drop the columns that have a abs(correlation) of less than 0.1 with the RainTomorrow column."
   ]
  },
  {
   "cell_type": "code",
   "execution_count": null,
   "metadata": {},
   "outputs": [],
   "source": [
    "new_dataset = dataset.drop(['Location', 'MinTemp', 'WindGustDir', 'WindDir9am', 'WindDir3pm', 'Temp9am'], axis = 1)"
   ]
  },
  {
   "cell_type": "markdown",
   "metadata": {},
   "source": [
    "Also dropping the date column, as it has no meaning to our NNs."
   ]
  },
  {
   "cell_type": "code",
   "execution_count": null,
   "metadata": {},
   "outputs": [],
   "source": [
    "new_dataset.drop('Date', axis = 1, inplace = True)"
   ]
  },
  {
   "cell_type": "code",
   "execution_count": null,
   "metadata": {},
   "outputs": [],
   "source": [
    "new_dataset.head()"
   ]
  },
  {
   "cell_type": "markdown",
   "metadata": {},
   "source": [
    "## Creating our training and testing sets"
   ]
  },
  {
   "cell_type": "markdown",
   "metadata": {},
   "source": [
    "#### Splitting our feature and labels"
   ]
  },
  {
   "cell_type": "code",
   "execution_count": null,
   "metadata": {},
   "outputs": [],
   "source": [
    "x = new_dataset.iloc[:, :-1].values\n",
    "y = new_dataset.iloc[:, -1].values\n",
    "print(x.shape)\n",
    "print(y.shape)"
   ]
  },
  {
   "cell_type": "code",
   "execution_count": null,
   "metadata": {},
   "outputs": [],
   "source": [
    "print(x[300])"
   ]
  },
  {
   "cell_type": "markdown",
   "metadata": {},
   "source": [
    "#### Scaling"
   ]
  },
  {
   "cell_type": "markdown",
   "metadata": {},
   "source": [
    "We are going to use standard scaling as data obtained from nature is usually normally distributed, thus using standard scaling will not alter the characteristics of the dataset."
   ]
  },
  {
   "cell_type": "code",
   "execution_count": null,
   "metadata": {},
   "outputs": [],
   "source": [
    "from sklearn.preprocessing import StandardScaler\n",
    "sc = StandardScaler()\n",
    "x[:, :-1] = sc.fit_transform(x[:, :-1])"
   ]
  },
  {
   "cell_type": "code",
   "execution_count": null,
   "metadata": {},
   "outputs": [],
   "source": [
    "print(x[300])"
   ]
  },
  {
   "cell_type": "markdown",
   "metadata": {},
   "source": [
    "#### Creating training and testing sets for our ANN/CNN"
   ]
  },
  {
   "cell_type": "code",
   "execution_count": null,
   "metadata": {},
   "outputs": [],
   "source": [
    "from sklearn.model_selection import train_test_split\n",
    "ann_X_train, ann_X_test, ann_Y_train, ann_Y_test = train_test_split(x,y, shuffle = True, test_size = 0.2)\n",
    "\n",
    "ann_X_train = ann_X_train.reshape(-1, 15, 1)\n",
    "ann_X_test = ann_X_test.reshape(-1, 15, 1)\n",
    "print(ann_X_train.shape)\n",
    "print(ann_X_test.shape)\n",
    "print(ann_Y_train.shape)\n",
    "print(ann_Y_test.shape)"
   ]
  },
  {
   "cell_type": "markdown",
   "metadata": {},
   "source": [
    "#### Creating training tests and labels for our RNN"
   ]
  },
  {
   "cell_type": "markdown",
   "metadata": {},
   "source": [
    "Note for the RNN, we are only predicting whether or not there is rain in a given amount of time after our training data (i.e. the time that takes place in our testing data)."
   ]
  },
  {
   "cell_type": "markdown",
   "metadata": {},
   "source": [
    "We will be training 29 consecutive days and testing on the 30th day."
   ]
  },
  {
   "cell_type": "code",
   "execution_count": null,
   "metadata": {},
   "outputs": [],
   "source": [
    "X_train, X_test, Y_train, Y_test = train_test_split(x,y, shuffle = False, test_size = 0.2)\n",
    "import numpy as np\n",
    "rnn_X_train = []\n",
    "rnn_Y_train = []\n",
    "for i in range(30, X_train.shape[0]):\n",
    "    rnn_X_train.append(X_train[i-30:i])\n",
    "    rnn_Y_train.append(Y_train[i])\n",
    "rnn_X_train, rnn_Y_train = np.array(rnn_X_train), np.array(rnn_Y_train)\n",
    "\n",
    "rnn_X_test = []\n",
    "rnn_Y_test = []\n",
    "for i in range(30, X_test.shape[0]):\n",
    "    rnn_X_test.append(X_test[i-30:i])\n",
    "    rnn_Y_test.append(Y_test[i])\n",
    "rnn_X_test, rnn_Y_test = np.array(rnn_X_test), np.array(rnn_Y_test)\n",
    "rnn_X_train, rnn_Y_train = np.array(rnn_X_train), np.array(rnn_Y_train)\n",
    "print(rnn_X_train.shape)\n",
    "print(rnn_X_test.shape)\n",
    "print(rnn_Y_train.shape)\n",
    "print(rnn_Y_test.shape)"
   ]
  },
  {
   "cell_type": "code",
   "execution_count": null,
   "metadata": {},
   "outputs": [],
   "source": [
    "rnn_X_train = rnn_X_train.reshape(-1, 30, 15)\n",
    "rnn_X_test = rnn_X_test.reshape(-1, 30, 15)\n",
    "print(rnn_X_train.shape)\n",
    "print(rnn_X_test.shape)\n",
    "print(rnn_Y_train.shape)\n",
    "print(rnn_Y_test.shape)"
   ]
  },
  {
   "cell_type": "markdown",
   "metadata": {},
   "source": [
    "## Creating the model"
   ]
  },
  {
   "cell_type": "code",
   "execution_count": null,
   "metadata": {},
   "outputs": [],
   "source": [
    "import tensorflow as tf"
   ]
  },
  {
   "cell_type": "markdown",
   "metadata": {},
   "source": [
    "For our model, since we are not using oversampling, we will be adding an initialization bias. We'll calculate the bias by finding the log of the positive/negative classes."
   ]
  },
  {
   "cell_type": "code",
   "execution_count": null,
   "metadata": {},
   "outputs": [],
   "source": [
    "neg, pos = np.bincount(dataset['RainTomorrow'])\n",
    "print(neg)\n",
    "print(pos)"
   ]
  },
  {
   "cell_type": "code",
   "execution_count": null,
   "metadata": {},
   "outputs": [],
   "source": [
    "bias = np.log(pos/neg)\n",
    "print(bias)\n",
    "output_bias = tf.keras.initializers.Constant(bias)"
   ]
  },
  {
   "cell_type": "markdown",
   "metadata": {},
   "source": [
    "#### Creating our ANN model"
   ]
  },
  {
   "cell_type": "code",
   "execution_count": null,
   "metadata": {},
   "outputs": [],
   "source": [
    "ann_X_train = ann_X_train.reshape(-1, 15)\n",
    "print(ann_X_train.shape)\n",
    "from imblearn.over_sampling import SMOTE\n",
    "smt = SMOTE(sampling_strategy=0.5)\n",
    "os_ann_x_train, os_ann_y_train = smt.fit_resample(ann_X_train, ann_Y_train)"
   ]
  },
  {
   "cell_type": "code",
   "execution_count": null,
   "metadata": {},
   "outputs": [],
   "source": [
    "from imblearn.under_sampling import RandomUnderSampler\n",
    "under = RandomUnderSampler(sampling_strategy=0.5)\n",
    "us_ann_x_train, us_ann_y_train = under.fit_resample(ann_X_train, ann_Y_train)"
   ]
  },
  {
   "cell_type": "code",
   "execution_count": null,
   "metadata": {},
   "outputs": [],
   "source": [
    "us_ann_x_train = us_ann_x_train.reshape(-1, 15,1)"
   ]
  },
  {
   "cell_type": "code",
   "execution_count": null,
   "metadata": {},
   "outputs": [],
   "source": [
    "print(us_ann_x_train.shape)"
   ]
  },
  {
   "cell_type": "code",
   "execution_count": null,
   "metadata": {},
   "outputs": [],
   "source": [
    "print(ann_X_train.shape)"
   ]
  },
  {
   "cell_type": "markdown",
   "metadata": {},
   "source": [
    "#### Creating our ANN model"
   ]
  },
  {
   "cell_type": "code",
   "execution_count": 222,
   "metadata": {},
   "outputs": [],
   "source": [
    "ann_model = tf.keras.models.Sequential()\n",
    "\n",
    "ann_model.add(tf.keras.layers.Dense(units = 128, activation = 'relu'))\n",
    "ann_model.add(tf.keras.layers.Dropout(0.5))\n",
    "\n",
    "ann_model.add(tf.keras.layers.Dense(units = 96, activation = 'relu'))\n",
    "ann_model.add(tf.keras.layers.Dropout(0.5))\n",
    "\n",
    "ann_model.add(tf.keras.layers.Dense(units = 64, activation = 'relu'))\n",
    "ann_model.add(tf.keras.layers.Dropout(0.5))\n",
    "\n",
    "ann_model.add(tf.keras.layers.Dense(units = 1, activation = 'sigmoid', bias_initializer=output_bias ))\n",
    "\n",
    "ann_model.compile(optimizer = 'adam', loss = 'binary_crossentropy', metrics = ['accuracy'])"
   ]
  },
  {
   "cell_type": "code",
   "execution_count": 223,
   "metadata": {},
   "outputs": [
    {
     "name": "stdout",
     "output_type": "stream",
     "text": [
      "Epoch 1/15\n",
      "2844/2844 [==============================] - 14s 4ms/step - loss: 0.3885 - accuracy: 0.8292 - val_loss: 0.3603 - val_accuracy: 0.8449\n",
      "Epoch 2/15\n",
      "2844/2844 [==============================] - 12s 4ms/step - loss: 0.3715 - accuracy: 0.8383 - val_loss: 0.3593 - val_accuracy: 0.8446\n",
      "Epoch 3/15\n",
      "2844/2844 [==============================] - 14s 5ms/step - loss: 0.3661 - accuracy: 0.8412 - val_loss: 0.3555 - val_accuracy: 0.8449\n",
      "Epoch 4/15\n",
      "2844/2844 [==============================] - 10s 4ms/step - loss: 0.3628 - accuracy: 0.8422 - val_loss: 0.3552 - val_accuracy: 0.8445\n",
      "Epoch 5/15\n",
      "2844/2844 [==============================] - 10s 4ms/step - loss: 0.3614 - accuracy: 0.8428 - val_loss: 0.3502 - val_accuracy: 0.8460\n",
      "Epoch 6/15\n",
      "2844/2844 [==============================] - 11s 4ms/step - loss: 0.3594 - accuracy: 0.8434 - val_loss: 0.3510 - val_accuracy: 0.8457\n",
      "Epoch 7/15\n",
      "2844/2844 [==============================] - 11s 4ms/step - loss: 0.3589 - accuracy: 0.8453 - val_loss: 0.3493 - val_accuracy: 0.8483\n",
      "Epoch 8/15\n",
      "2844/2844 [==============================] - 11s 4ms/step - loss: 0.3592 - accuracy: 0.8448 - val_loss: 0.3536 - val_accuracy: 0.8439\n",
      "Epoch 9/15\n",
      "2844/2844 [==============================] - 11s 4ms/step - loss: 0.3584 - accuracy: 0.8447 - val_loss: 0.3489 - val_accuracy: 0.8470\n",
      "Epoch 10/15\n",
      "2844/2844 [==============================] - 12s 4ms/step - loss: 0.3578 - accuracy: 0.8450 - val_loss: 0.3545 - val_accuracy: 0.8458\n",
      "Epoch 11/15\n",
      "2844/2844 [==============================] - 11s 4ms/step - loss: 0.3580 - accuracy: 0.8459 - val_loss: 0.3492 - val_accuracy: 0.8481\n",
      "Epoch 12/15\n",
      "2844/2844 [==============================] - 11s 4ms/step - loss: 0.3569 - accuracy: 0.8457 - val_loss: 0.3490 - val_accuracy: 0.8470\n",
      "Epoch 13/15\n",
      "2844/2844 [==============================] - 11s 4ms/step - loss: 0.3569 - accuracy: 0.8453 - val_loss: 0.3501 - val_accuracy: 0.8455\n",
      "Epoch 14/15\n",
      "2844/2844 [==============================] - 12s 4ms/step - loss: 0.3561 - accuracy: 0.8458 - val_loss: 0.3504 - val_accuracy: 0.8456\n",
      "Epoch 15/15\n",
      "2844/2844 [==============================] - 11s 4ms/step - loss: 0.3575 - accuracy: 0.8464 - val_loss: 0.3525 - val_accuracy: 0.8440\n"
     ]
    }
   ],
   "source": [
    "ann_history = ann_model.fit(ann_X_train.reshape(-1, 15), ann_Y_train, epochs = 15, batch_size = 32, validation_split = 0.2)"
   ]
  },
  {
   "cell_type": "markdown",
   "metadata": {},
   "source": [
    "We are going to use standard scaling as data obtained from nature is usually normally distributed, thus using standard scaling will not alter the characteristics of the dataset."
   ]
  },
  {
   "cell_type": "code",
   "execution_count": 224,
   "metadata": {},
   "outputs": [
    {
     "name": "stdout",
     "output_type": "stream",
     "text": [
      "(28439, 1)\n"
     ]
    }
   ],
   "source": [
    "def generate_predicted(model, X_test):\n",
    "    # Get the predictions\n",
    "    Y_pred = model.predict(X_test)\n",
    "    # Create a list of predictions\n",
    "    print(Y_pred.shape)\n",
    "    #Converting predictions to label\n",
    "    predicted = [0 if Y_pred[i]<0.5 else 1 for i in range(len(Y_pred))]\n",
    "\n",
    "\n",
    "    return predicted\n",
    "\n",
    "predicted = generate_predicted(ann_model, ann_X_test.reshape(-1, 15))"
   ]
  },
  {
   "cell_type": "code",
   "execution_count": 225,
   "metadata": {},
   "outputs": [
    {
     "name": "stdout",
     "output_type": "stream",
     "text": [
      "[[21453   540]\n",
      " [ 3867  2579]]\n"
     ]
    }
   ],
   "source": [
    "from sklearn.metrics import confusion_matrix\n",
    "cm=confusion_matrix(ann_Y_test,predicted)\n",
    "print(cm)"
   ]
  },
  {
   "cell_type": "code",
   "execution_count": 226,
   "metadata": {},
   "outputs": [
    {
     "name": "stdout",
     "output_type": "stream",
     "text": [
      "Accuracy score:\t\t 0.8450367453145329\n",
      "F1 score:\t\t 0.7230560316643831\n",
      "Precision score:\t 0.8370712336406279\n",
      "Recall score:\t\t 0.6877699070159392\n",
      "              precision    recall  f1-score   support\n",
      "\n",
      "           0       0.85      0.98      0.91     21993\n",
      "           1       0.83      0.40      0.54      6446\n",
      "\n",
      "    accuracy                           0.85     28439\n",
      "   macro avg       0.84      0.69      0.72     28439\n",
      "weighted avg       0.84      0.85      0.82     28439\n",
      "\n"
     ]
    }
   ],
   "source": [
    "from sklearn.metrics import accuracy_score\n",
    "print('Accuracy score:\\t\\t', accuracy_score(ann_Y_test, predicted))\n",
    "\n",
    "from sklearn.metrics import f1_score\n",
    "print('F1 score:\\t\\t', f1_score(ann_Y_test, predicted, average='macro'))\n",
    "\n",
    "from sklearn.metrics import precision_score\n",
    "print('Precision score:\\t', precision_score(ann_Y_test, predicted, average='macro'))\n",
    "\n",
    "from sklearn.metrics import recall_score\n",
    "print('Recall score:\\t\\t', recall_score(ann_Y_test, predicted, average='macro'))\n",
    "\n",
    "from sklearn.metrics import classification_report\n",
    "print(classification_report(ann_Y_test, predicted))"
   ]
  },
  {
   "cell_type": "code",
   "execution_count": 227,
   "metadata": {},
   "outputs": [
    {
     "name": "stdout",
     "output_type": "stream",
     "text": [
      "(28439, 1)\n"
     ]
    },
    {
     "data": {
      "text/html": [
       "<div>\n",
       "<style scoped>\n",
       "    .dataframe tbody tr th:only-of-type {\n",
       "        vertical-align: middle;\n",
       "    }\n",
       "\n",
       "    .dataframe tbody tr th {\n",
       "        vertical-align: top;\n",
       "    }\n",
       "\n",
       "    .dataframe thead th {\n",
       "        text-align: right;\n",
       "    }\n",
       "</style>\n",
       "<table border=\"1\" class=\"dataframe\">\n",
       "  <thead>\n",
       "    <tr style=\"text-align: right;\">\n",
       "      <th></th>\n",
       "      <th>AUC</th>\n",
       "    </tr>\n",
       "  </thead>\n",
       "  <tbody>\n",
       "    <tr>\n",
       "      <th>0</th>\n",
       "      <td>0.879872</td>\n",
       "    </tr>\n",
       "  </tbody>\n",
       "</table>\n",
       "</div>"
      ],
      "text/plain": [
       "        AUC\n",
       "0  0.879872"
      ]
     },
     "metadata": {},
     "output_type": "display_data"
    },
    {
     "data": {
      "image/png": "[encoded data removed]",
      "text/plain": [
       "<Figure size 576x396 with 1 Axes>"
      ]
     },
     "metadata": {},
     "output_type": "display_data"
    }
   ],
   "source": [
    "# we already have actual and predicted \n",
    "\n",
    "# also see https://www.dlology.com/blog/simple-guide-on-how-to-generate-roc-plot-for-keras-classifier/\n",
    "# for micro-average ROC curves as well\n",
    "\n",
    "import matplotlib.pyplot as plt\n",
    "from sklearn.metrics import roc_curve, auc\n",
    "\n",
    "fpr = dict()\n",
    "tpr = dict()\n",
    "roc_auc = dict()\n",
    "n_classes = 1  # one hot encoded\n",
    "\n",
    "y_score=ann_model.predict(ann_X_test.reshape(-1, 15), batch_size=None, verbose=0, steps=None)\n",
    "print(y_score.shape)\n",
    "\n",
    "# compare each class's probabilities one by one\n",
    "# each acts like a single column\n",
    "for i in range(n_classes):\n",
    "    fpr[i], tpr[i], _ = roc_curve(ann_Y_test[:], y_score[:,i])\n",
    "    roc_auc[i] = auc(fpr[i], tpr[i])\n",
    "\n",
    "# Print the AUC scores\n",
    "from IPython.display import display\n",
    "import pandas as pd\n",
    "auc_array = np.array(list(roc_auc.items()))\n",
    "df = pd.DataFrame(auc_array[:,1])\n",
    "df.columns = ['AUC']\n",
    "display(df)\n",
    "\n",
    "# Draw the pairwise ROC curves\n",
    "for i in range(n_classes):\n",
    "    plt.plot(fpr[i], tpr[i], lw=2,label='ROC curve of class {0} (area = {1:0.3f})'\n",
    "    ''.format(i, roc_auc[i]))\n",
    "\n",
    "plt.plot([0, 1], [0, 1], 'k--', lw=2)\n",
    "plt.xlim([0.0, 1.0])\n",
    "plt.ylim([0.0, 1.05])\n",
    "plt.xlabel('False Positive Rate')\n",
    "plt.ylabel('True Positive Rate')\n",
    "plt.title('ROC')\n",
    "plt.legend(loc=\"lower right\")\n",
    "plt.tight_layout()\n",
    "plt.savefig('ROC.png')\n",
    "plt.show()"
   ]
  },
  {
   "cell_type": "code",
   "execution_count": 228,
   "metadata": {},
   "outputs": [
    {
     "data": {
      "image/png": "[encoded data removed]",
      "text/plain": [
       "<Figure size 576x396 with 1 Axes>"
      ]
     },
     "metadata": {},
     "output_type": "display_data"
    }
   ],
   "source": [
    "# Plotting the loss over time\n",
    "plt.plot(ann_history.history['loss']) \n",
    "plt.plot(ann_history.history['val_loss']) \n",
    "plt.title('Model loss') \n",
    "plt.ylabel('Loss') \n",
    "plt.xlabel('Epoch') \n",
    "plt.legend(['Train', 'Validation'], loc='upper left') \n",
    "plt.show()"
   ]
  },
  {
   "cell_type": "code",
   "execution_count": 229,
   "metadata": {},
   "outputs": [
    {
     "data": {
      "image/png": "[encoded data removed]",
      "text/plain": [
       "<Figure size 576x396 with 1 Axes>"
      ]
     },
     "metadata": {},
     "output_type": "display_data"
    }
   ],
   "source": [
    "# Plotting the accuracy over time\n",
    "plt.plot(ann_history.history['accuracy']) \n",
    "plt.plot(ann_history.history['val_accuracy']) \n",
    "plt.title('Model Accuracy') \n",
    "plt.ylabel('Accuracy') \n",
    "plt.xlabel('Epoch') \n",
    "plt.legend(['Train', 'Validation'], loc='upper left') \n",
    "plt.show()"
   ]
  },
  {
   "cell_type": "markdown",
   "metadata": {},
   "source": [
    "## CNN"
   ]
  },
  {
   "cell_type": "code",
   "execution_count": 232,
   "metadata": {},
   "outputs": [],
   "source": [
    "ann_X_train = ann_X_train.reshape(-1,15,1)"
   ]
  },
  {
   "cell_type": "code",
   "execution_count": 235,
   "metadata": {},
   "outputs": [],
   "source": [
    "cnn_model = tf.keras.models.Sequential()\n",
    "cnn_model.add(tf.keras.layers.Conv1D(filters = 32, kernel_size = 3))\n",
    "cnn_model.add(tf.keras.layers.BatchNormalization(center=True, scale=False))\n",
    "cnn_model.add(tf.keras.layers.Activation('relu'))\n",
    "                  \n",
    "cnn_model.add(tf.keras.layers.Conv1D(filters = 64, kernel_size = 3))\n",
    "cnn_model.add(tf.keras.layers.BatchNormalization(center=True, scale=False))\n",
    "cnn_model.add(tf.keras.layers.Activation('relu'))\n",
    "\n",
    "cnn_model.add(tf.keras.layers.Conv1D(filters = 96, kernel_size = 3))\n",
    "cnn_model.add(tf.keras.layers.BatchNormalization(center=True, scale=False))\n",
    "cnn_model.add(tf.keras.layers.Activation('relu'))\n",
    "\n",
    "cnn_model.add(tf.keras.layers.Flatten())\n",
    "          \n",
    "cnn_model.add(tf.keras.layers.Dense(units = 128))\n",
    "cnn_model.add(tf.keras.layers.BatchNormalization(center=True, scale=False))\n",
    "cnn_model.add(tf.keras.layers.Activation('relu'))\n",
    "cnn_model.add(tf.keras.layers.Dropout(0.5))\n",
    "          \n",
    "cnn_model.add(tf.keras.layers.Dense(units = 64))\n",
    "cnn_model.add(tf.keras.layers.BatchNormalization(center=True, scale=False))\n",
    "cnn_model.add(tf.keras.layers.Activation('relu'))\n",
    "cnn_model.add(tf.keras.layers.Dropout(0.5))\n",
    "          \n",
    "cnn_model.add(tf.keras.layers.Dense(units = 1, activation = 'sigmoid', bias_initializer=output_bias))\n",
    "\n",
    "cnn_model.compile(optimizer = 'adam', loss = 'binary_crossentropy', metrics = ['accuracy'])\n"
   ]
  },
  {
   "cell_type": "code",
   "execution_count": 236,
   "metadata": {},
   "outputs": [
    {
     "name": "stdout",
     "output_type": "stream",
     "text": [
      "Epoch 1/30\n",
      "2844/2844 [==============================] - 41s 13ms/step - loss: 0.3902 - accuracy: 0.8303 - val_loss: 0.3581 - val_accuracy: 0.8460\n",
      "Epoch 2/30\n",
      "2844/2844 [==============================] - 36s 13ms/step - loss: 0.3715 - accuracy: 0.8366 - val_loss: 0.3544 - val_accuracy: 0.8455 loss: 0.3713 - accu\n",
      "Epoch 3/30\n",
      "2844/2844 [==============================] - 35s 12ms/step - loss: 0.3674 - accuracy: 0.8400 - val_loss: 0.3548 - val_accuracy: 0.8460\n",
      "Epoch 4/30\n",
      "2844/2844 [==============================] - 37s 13ms/step - loss: 0.3620 - accuracy: 0.8409 - val_loss: 0.3504 - val_accuracy: 0.8471\n",
      "Epoch 5/30\n",
      "2844/2844 [==============================] - 33s 11ms/step - loss: 0.3618 - accuracy: 0.8429 - val_loss: 0.3498 - val_accuracy: 0.8468\n",
      "Epoch 6/30\n",
      "2844/2844 [==============================] - 27s 10ms/step - loss: 0.3591 - accuracy: 0.8436 - val_loss: 0.3470 - val_accuracy: 0.8496\n",
      "Epoch 7/30\n",
      "2844/2844 [==============================] - 27s 9ms/step - loss: 0.3566 - accuracy: 0.8451 - val_loss: 0.3461 - val_accuracy: 0.8498\n",
      "Epoch 8/30\n",
      "2844/2844 [==============================] - 28s 10ms/step - loss: 0.3546 - accuracy: 0.8459 - val_loss: 0.3467 - val_accuracy: 0.8482\n",
      "Epoch 9/30\n",
      "2844/2844 [==============================] - 27s 10ms/step - loss: 0.3532 - accuracy: 0.8469 - val_loss: 0.3458 - val_accuracy: 0.8486\n",
      "Epoch 10/30\n",
      "2844/2844 [==============================] - 29s 10ms/step - loss: 0.3516 - accuracy: 0.8469 - val_loss: 0.3450 - val_accuracy: 0.8519\n",
      "Epoch 11/30\n",
      "2844/2844 [==============================] - 30s 11ms/step - loss: 0.3499 - accuracy: 0.8481 - val_loss: 0.3448 - val_accuracy: 0.8507\n",
      "Epoch 12/30\n",
      "2844/2844 [==============================] - 32s 11ms/step - loss: 0.3496 - accuracy: 0.8479 - val_loss: 0.3441 - val_accuracy: 0.8501\n",
      "Epoch 13/30\n",
      "2844/2844 [==============================] - 33s 12ms/step - loss: 0.3473 - accuracy: 0.8492 - val_loss: 0.3439 - val_accuracy: 0.8511\n",
      "Epoch 14/30\n",
      "2844/2844 [==============================] - 35s 12ms/step - loss: 0.3470 - accuracy: 0.8501 - val_loss: 0.3440 - val_accuracy: 0.8515\n",
      "Epoch 15/30\n",
      "2844/2844 [==============================] - 33s 12ms/step - loss: 0.3447 - accuracy: 0.8509 - val_loss: 0.3450 - val_accuracy: 0.8518\n",
      "Epoch 16/30\n",
      "2844/2844 [==============================] - 33s 12ms/step - loss: 0.3437 - accuracy: 0.8518 - val_loss: 0.3474 - val_accuracy: 0.8511\n",
      "Epoch 17/30\n",
      "2844/2844 [==============================] - 33s 12ms/step - loss: 0.3435 - accuracy: 0.8519 - val_loss: 0.3468 - val_accuracy: 0.8503\n",
      "Epoch 18/30\n",
      "2844/2844 [==============================] - 33s 12ms/step - loss: 0.3414 - accuracy: 0.8513 - val_loss: 0.3454 - val_accuracy: 0.8520\n",
      "Epoch 19/30\n",
      "2844/2844 [==============================] - 33s 12ms/step - loss: 0.3405 - accuracy: 0.8524 - val_loss: 0.3442 - val_accuracy: 0.8503\n",
      "Epoch 20/30\n",
      "2844/2844 [==============================] - 33s 12ms/step - loss: 0.3396 - accuracy: 0.8525 - val_loss: 0.3457 - val_accuracy: 0.8512\n",
      "Epoch 21/30\n",
      "2844/2844 [==============================] - 33s 12ms/step - loss: 0.3382 - accuracy: 0.8536 - val_loss: 0.3437 - val_accuracy: 0.8532\n",
      "Epoch 22/30\n",
      "2844/2844 [==============================] - 33s 12ms/step - loss: 0.3369 - accuracy: 0.8546 - val_loss: 0.3434 - val_accuracy: 0.8522\n",
      "Epoch 23/30\n",
      "2844/2844 [==============================] - 33s 12ms/step - loss: 0.3361 - accuracy: 0.8535 - val_loss: 0.3433 - val_accuracy: 0.8515\n",
      "Epoch 24/30\n",
      "2844/2844 [==============================] - 33s 12ms/step - loss: 0.3352 - accuracy: 0.8550 - val_loss: 0.3437 - val_accuracy: 0.8517\n",
      "Epoch 25/30\n",
      "2844/2844 [==============================] - 33s 12ms/step - loss: 0.3342 - accuracy: 0.8552 - val_loss: 0.3455 - val_accuracy: 0.8532\n",
      "Epoch 26/30\n",
      "2844/2844 [==============================] - 33s 12ms/step - loss: 0.3333 - accuracy: 0.8564 - val_loss: 0.3455 - val_accuracy: 0.8512\n",
      "Epoch 27/30\n",
      "2844/2844 [==============================] - 33s 12ms/step - loss: 0.3326 - accuracy: 0.8562 - val_loss: 0.3457 - val_accuracy: 0.8524\n",
      "Epoch 28/30\n",
      "2844/2844 [==============================] - 34s 12ms/step - loss: 0.3326 - accuracy: 0.8562 - val_loss: 0.3471 - val_accuracy: 0.8508\n",
      "Epoch 29/30\n",
      "2844/2844 [==============================] - 33s 11ms/step - loss: 0.3317 - accuracy: 0.8566 - val_loss: 0.3450 - val_accuracy: 0.8512\n",
      "Epoch 30/30\n",
      "2844/2844 [==============================] - 33s 12ms/step - loss: 0.3304 - accuracy: 0.8570 - val_loss: 0.3475 - val_accuracy: 0.8538\n"
     ]
    }
   ],
   "source": [
    "cnn_history = cnn_model.fit(ann_X_train.reshape(-1, 15,1), ann_Y_train, epochs = 30, batch_size = 32, validation_split = 0.2)"
   ]
  },
  {
   "cell_type": "code",
   "execution_count": 237,
   "metadata": {},
   "outputs": [
    {
     "name": "stdout",
     "output_type": "stream",
     "text": [
      "(28439, 1)\n"
     ]
    }
   ],
   "source": [
    "def generate_predicted(model, X_test):\n",
    "    # Get the predictions\n",
    "    Y_pred = model.predict(X_test)\n",
    "    # Create a list of predictions\n",
    "    print(Y_pred.shape)\n",
    "    #Converting predictions to label\n",
    "    predicted = [0 if Y_pred[i]<0.5 else 1 for i in range(len(Y_pred))]\n",
    "\n",
    "\n",
    "    return predicted\n",
    "\n",
    "predicted = generate_predicted(cnn_model, ann_X_test.reshape(-1, 15, 1))"
   ]
  },
  {
   "cell_type": "code",
   "execution_count": 238,
   "metadata": {},
   "outputs": [
    {
     "name": "stdout",
     "output_type": "stream",
     "text": [
      "[[20836  1157]\n",
      " [ 3043  3403]]\n"
     ]
    }
   ],
   "source": [
    "from sklearn.metrics import confusion_matrix\n",
    "cm=confusion_matrix(ann_Y_test,predicted)\n",
    "print(cm)"
   ]
  },
  {
   "cell_type": "code",
   "execution_count": 239,
   "metadata": {},
   "outputs": [
    {
     "name": "stdout",
     "output_type": "stream",
     "text": [
      "Accuracy score:\t\t 0.8523154822602764\n",
      "F1 score:\t\t 0.7634154240376607\n",
      "Precision score:\t 0.8094188913329851\n",
      "Recall score:\t\t 0.737658323123967\n",
      "              precision    recall  f1-score   support\n",
      "\n",
      "           0       0.87      0.95      0.91     21993\n",
      "           1       0.75      0.53      0.62      6446\n",
      "\n",
      "    accuracy                           0.85     28439\n",
      "   macro avg       0.81      0.74      0.76     28439\n",
      "weighted avg       0.84      0.85      0.84     28439\n",
      "\n"
     ]
    }
   ],
   "source": [
    "from sklearn.metrics import accuracy_score\n",
    "print('Accuracy score:\\t\\t', accuracy_score(ann_Y_test, predicted))\n",
    "\n",
    "from sklearn.metrics import f1_score\n",
    "print('F1 score:\\t\\t', f1_score(ann_Y_test, predicted, average='macro'))\n",
    "\n",
    "from sklearn.metrics import precision_score\n",
    "print('Precision score:\\t', precision_score(ann_Y_test, predicted, average='macro'))\n",
    "\n",
    "from sklearn.metrics import recall_score\n",
    "print('Recall score:\\t\\t', recall_score(ann_Y_test, predicted, average='macro'))\n",
    "\n",
    "from sklearn.metrics import classification_report\n",
    "print(classification_report(ann_Y_test, predicted))"
   ]
  },
  {
   "cell_type": "code",
   "execution_count": 240,
   "metadata": {},
   "outputs": [
    {
     "name": "stdout",
     "output_type": "stream",
     "text": [
      "(28439, 1)\n"
     ]
    },
    {
     "data": {
      "text/html": [
       "<div>\n",
       "<style scoped>\n",
       "    .dataframe tbody tr th:only-of-type {\n",
       "        vertical-align: middle;\n",
       "    }\n",
       "\n",
       "    .dataframe tbody tr th {\n",
       "        vertical-align: top;\n",
       "    }\n",
       "\n",
       "    .dataframe thead th {\n",
       "        text-align: right;\n",
       "    }\n",
       "</style>\n",
       "<table border=\"1\" class=\"dataframe\">\n",
       "  <thead>\n",
       "    <tr style=\"text-align: right;\">\n",
       "      <th></th>\n",
       "      <th>AUC</th>\n",
       "    </tr>\n",
       "  </thead>\n",
       "  <tbody>\n",
       "    <tr>\n",
       "      <th>0</th>\n",
       "      <td>0.880295</td>\n",
       "    </tr>\n",
       "  </tbody>\n",
       "</table>\n",
       "</div>"
      ],
      "text/plain": [
       "        AUC\n",
       "0  0.880295"
      ]
     },
     "metadata": {},
     "output_type": "display_data"
    },
    {
     "data": {
      "image/png": "[encoded data removed]",
      "text/plain": [
       "<Figure size 576x396 with 1 Axes>"
      ]
     },
     "metadata": {},
     "output_type": "display_data"
    }
   ],
   "source": [
    "# we already have actual and predicted \n",
    "\n",
    "# also see https://www.dlology.com/blog/simple-guide-on-how-to-generate-roc-plot-for-keras-classifier/\n",
    "# for micro-average ROC curves as well\n",
    "\n",
    "import matplotlib.pyplot as plt\n",
    "from sklearn.metrics import roc_curve, auc\n",
    "\n",
    "fpr = dict()\n",
    "tpr = dict()\n",
    "roc_auc = dict()\n",
    "n_classes = 1  # one hot encoded\n",
    "\n",
    "y_score=cnn_model.predict(ann_X_test.reshape(-1, 15, 1), batch_size=None, verbose=0, steps=None)\n",
    "print(y_score.shape)\n",
    "\n",
    "# compare each class's probabilities one by one\n",
    "# each acts like a single column\n",
    "for i in range(n_classes):\n",
    "    fpr[i], tpr[i], _ = roc_curve(ann_Y_test[:], y_score[:,i])\n",
    "    roc_auc[i] = auc(fpr[i], tpr[i])\n",
    "\n",
    "# Print the AUC scores\n",
    "from IPython.display import display\n",
    "import pandas as pd\n",
    "auc_array = np.array(list(roc_auc.items()))\n",
    "df = pd.DataFrame(auc_array[:,1])\n",
    "df.columns = ['AUC']\n",
    "display(df)\n",
    "\n",
    "# Draw the pairwise ROC curves\n",
    "for i in range(n_classes):\n",
    "    plt.plot(fpr[i], tpr[i], lw=2,label='ROC curve of class {0} (area = {1:0.3f})'\n",
    "    ''.format(i, roc_auc[i]))\n",
    "\n",
    "plt.plot([0, 1], [0, 1], 'k--', lw=2)\n",
    "plt.xlim([0.0, 1.0])\n",
    "plt.ylim([0.0, 1.05])\n",
    "plt.xlabel('False Positive Rate')\n",
    "plt.ylabel('True Positive Rate')\n",
    "plt.title('ROC')\n",
    "plt.legend(loc=\"lower right\")\n",
    "plt.tight_layout()\n",
    "plt.savefig('ROC.png')\n",
    "plt.show()"
   ]
  },
  {
   "cell_type": "code",
   "execution_count": 241,
   "metadata": {},
   "outputs": [
    {
     "data": {
      "image/png": "[encoded data removed]",
      "text/plain": [
       "<Figure size 576x396 with 1 Axes>"
      ]
     },
     "metadata": {},
     "output_type": "display_data"
    }
   ],
   "source": [
    "# Plotting the loss over time\n",
    "plt.plot(cnn_history.history['loss']) \n",
    "plt.plot(cnn_history.history['val_loss']) \n",
    "plt.title('Model loss') \n",
    "plt.ylabel('Loss') \n",
    "plt.xlabel('Epoch') \n",
    "plt.legend(['Train', 'Validation'], loc='upper left') \n",
    "plt.show()"
   ]
  },
  {
   "cell_type": "code",
   "execution_count": 242,
   "metadata": {},
   "outputs": [
    {
     "data": {
      "image/png": "[encoded data removed]",
      "text/plain": [
       "<Figure size 576x396 with 1 Axes>"
      ]
     },
     "metadata": {},
     "output_type": "display_data"
    }
   ],
   "source": [
    "# Plotting the accuracy over time\n",
    "plt.plot(cnn_history.history['accuracy']) \n",
    "plt.plot(cnn_history.history['val_accuracy']) \n",
    "plt.title('Model Accuracy') \n",
    "plt.ylabel('Accuracy') \n",
    "plt.xlabel('Epoch') \n",
    "plt.legend(['Train', 'Validation'], loc='upper left') \n",
    "plt.show()"
   ]
  },
  {
   "cell_type": "markdown",
   "metadata": {},
   "source": [
    "#### Creating our RNN model"
   ]
  },
  {
   "cell_type": "code",
   "execution_count": 248,
   "metadata": {},
   "outputs": [],
   "source": [
    "rnn = tf.keras.models.Sequential()\n",
    "\n",
    "rnn.add(tf.keras.layers.GRU(units = 64, return_sequences = True))\n",
    "rnn.add(tf.keras.layers.Dropout(rate = 0.2))\n",
    "\n",
    "rnn.add(tf.keras.layers.GRU(units = 32))\n",
    "rnn.add(tf.keras.layers.Dropout(rate = 0.2))\n",
    "\n",
    "rnn.add(tf.keras.layers.Dense(1, bias_initializer = output_bias, activation = 'sigmoid'))"
   ]
  },
  {
   "cell_type": "code",
   "execution_count": 249,
   "metadata": {},
   "outputs": [],
   "source": [
    "rnn.compile(loss = 'mse', optimizer = 'adam', metrics = ['accuracy'])"
   ]
  },
  {
   "cell_type": "code",
   "execution_count": 250,
   "metadata": {},
   "outputs": [
    {
     "name": "stdout",
     "output_type": "stream",
     "text": [
      "Epoch 1/10\n",
      "356/356 [==============================] - 60s 148ms/step - loss: 0.1682 - accuracy: 0.7686 - val_loss: 0.1528 - val_accuracy: 0.7837\n",
      "Epoch 2/10\n",
      "356/356 [==============================] - 52s 147ms/step - loss: 0.1648 - accuracy: 0.7696 - val_loss: 0.1462 - val_accuracy: 0.7913\n",
      "Epoch 3/10\n",
      "356/356 [==============================] - 53s 148ms/step - loss: 0.1631 - accuracy: 0.7712 - val_loss: 0.1452 - val_accuracy: 0.7935\n",
      "Epoch 4/10\n",
      "356/356 [==============================] - 53s 148ms/step - loss: 0.1619 - accuracy: 0.7727 - val_loss: 0.1440 - val_accuracy: 0.7942\n",
      "Epoch 5/10\n",
      "356/356 [==============================] - 54s 151ms/step - loss: 0.1607 - accuracy: 0.7743 - val_loss: 0.1440 - val_accuracy: 0.7959\n",
      "Epoch 6/10\n",
      "356/356 [==============================] - 53s 149ms/step - loss: 0.1598 - accuracy: 0.7744 - val_loss: 0.1412 - val_accuracy: 0.8020\n",
      "Epoch 7/10\n",
      "356/356 [==============================] - 53s 148ms/step - loss: 0.1590 - accuracy: 0.7762 - val_loss: 0.1419 - val_accuracy: 0.7998\n",
      "Epoch 8/10\n",
      "356/356 [==============================] - 53s 149ms/step - loss: 0.1579 - accuracy: 0.7769 - val_loss: 0.1413 - val_accuracy: 0.8000\n",
      "Epoch 9/10\n",
      "356/356 [==============================] - 53s 149ms/step - loss: 0.1573 - accuracy: 0.7772 - val_loss: 0.1400 - val_accuracy: 0.8045\n",
      "Epoch 10/10\n",
      "356/356 [==============================] - 55s 156ms/step - loss: 0.1561 - accuracy: 0.7783 - val_loss: 0.1395 - val_accuracy: 0.8060\n"
     ]
    }
   ],
   "source": [
    "rnn_history = rnn.fit(rnn_X_train, rnn_Y_train, validation_split = 0.2, epochs = 10, batch_size = 256)"
   ]
  },
  {
   "cell_type": "code",
   "execution_count": 251,
   "metadata": {},
   "outputs": [
    {
     "name": "stdout",
     "output_type": "stream",
     "text": [
      "(28409, 1)\n"
     ]
    }
   ],
   "source": [
    "def generate_predicted(model, X_test):\n",
    "    # Get the predictions\n",
    "    Y_pred = model.predict(X_test)\n",
    "    # Create a list of predictions\n",
    "    print(Y_pred.shape)\n",
    "    #Converting predictions to label\n",
    "    predicted = [0 if Y_pred[i]<0.5 else 1 for i in range(len(Y_pred))]\n",
    "\n",
    "\n",
    "    return predicted\n",
    "\n",
    "predicted = generate_predicted(rnn, rnn_X_test)"
   ]
  },
  {
   "cell_type": "code",
   "execution_count": 252,
   "metadata": {},
   "outputs": [
    {
     "name": "stdout",
     "output_type": "stream",
     "text": [
      "[[21946   722]\n",
      " [ 4790   951]]\n"
     ]
    }
   ],
   "source": [
    "from sklearn.metrics import confusion_matrix\n",
    "cm=confusion_matrix(rnn_Y_test,predicted)\n",
    "print(cm)"
   ]
  },
  {
   "cell_type": "code",
   "execution_count": 253,
   "metadata": {},
   "outputs": [
    {
     "name": "stdout",
     "output_type": "stream",
     "text": [
      "Accuracy score:\t\t 0.8059769791263333\n",
      "F1 score:\t\t 0.5724858822696621\n",
      "Precision score:\t 0.6946403710782331\n",
      "Recall score:\t\t 0.5668997579688874\n",
      "              precision    recall  f1-score   support\n",
      "\n",
      "           0       0.82      0.97      0.89     22668\n",
      "           1       0.57      0.17      0.26      5741\n",
      "\n",
      "    accuracy                           0.81     28409\n",
      "   macro avg       0.69      0.57      0.57     28409\n",
      "weighted avg       0.77      0.81      0.76     28409\n",
      "\n"
     ]
    }
   ],
   "source": [
    "from sklearn.metrics import accuracy_score\n",
    "print('Accuracy score:\\t\\t', accuracy_score(rnn_Y_test, predicted))\n",
    "\n",
    "from sklearn.metrics import f1_score\n",
    "print('F1 score:\\t\\t', f1_score(rnn_Y_test, predicted, average='macro'))\n",
    "\n",
    "from sklearn.metrics import precision_score\n",
    "print('Precision score:\\t', precision_score(rnn_Y_test, predicted, average='macro'))\n",
    "\n",
    "from sklearn.metrics import recall_score\n",
    "print('Recall score:\\t\\t', recall_score(rnn_Y_test, predicted, average='macro'))\n",
    "\n",
    "from sklearn.metrics import classification_report\n",
    "print(classification_report(rnn_Y_test, predicted))"
   ]
  },
  {
   "cell_type": "code",
   "execution_count": 254,
   "metadata": {},
   "outputs": [
    {
     "name": "stdout",
     "output_type": "stream",
     "text": [
      "(28409, 1)\n"
     ]
    },
    {
     "data": {
      "text/html": [
       "<div>\n",
       "<style scoped>\n",
       "    .dataframe tbody tr th:only-of-type {\n",
       "        vertical-align: middle;\n",
       "    }\n",
       "\n",
       "    .dataframe tbody tr th {\n",
       "        vertical-align: top;\n",
       "    }\n",
       "\n",
       "    .dataframe thead th {\n",
       "        text-align: right;\n",
       "    }\n",
       "</style>\n",
       "<table border=\"1\" class=\"dataframe\">\n",
       "  <thead>\n",
       "    <tr style=\"text-align: right;\">\n",
       "      <th></th>\n",
       "      <th>AUC</th>\n",
       "    </tr>\n",
       "  </thead>\n",
       "  <tbody>\n",
       "    <tr>\n",
       "      <th>0</th>\n",
       "      <td>0.458483</td>\n",
       "    </tr>\n",
       "  </tbody>\n",
       "</table>\n",
       "</div>"
      ],
      "text/plain": [
       "        AUC\n",
       "0  0.458483"
      ]
     },
     "metadata": {},
     "output_type": "display_data"
    },
    {
     "data": {
      "image/png": "[encoded data removed]",
      "text/plain": [
       "<Figure size 576x396 with 1 Axes>"
      ]
     },
     "metadata": {},
     "output_type": "display_data"
    }
   ],
   "source": [
    "# we already have actual and predicted \n",
    "\n",
    "# also see https://www.dlology.com/blog/simple-guide-on-how-to-generate-roc-plot-for-keras-classifier/\n",
    "# for micro-average ROC curves as well\n",
    "\n",
    "import matplotlib.pyplot as plt\n",
    "from sklearn.metrics import roc_curve, auc\n",
    "\n",
    "fpr = dict()\n",
    "tpr = dict()\n",
    "roc_auc = dict()\n",
    "n_classes = 1  # one hot encoded\n",
    "\n",
    "y_score=model.predict(rnn_X_test, batch_size=None, verbose=0, steps=None)\n",
    "print(y_score.shape)\n",
    "\n",
    "# compare each class's probabilities one by one\n",
    "# each acts like a single column\n",
    "for i in range(n_classes):\n",
    "    fpr[i], tpr[i], _ = roc_curve(rnn_Y_test[:], y_score[:,i])\n",
    "    roc_auc[i] = auc(fpr[i], tpr[i])\n",
    "\n",
    "# Print the AUC scores\n",
    "from IPython.display import display\n",
    "import pandas as pd\n",
    "auc_array = np.array(list(roc_auc.items()))\n",
    "df = pd.DataFrame(auc_array[:,1])\n",
    "df.columns = ['AUC']\n",
    "display(df)\n",
    "\n",
    "# Draw the pairwise ROC curves\n",
    "for i in range(n_classes):\n",
    "    plt.plot(fpr[i], tpr[i], lw=2,label='ROC curve of class {0} (area = {1:0.3f})'\n",
    "    ''.format(i, roc_auc[i]))\n",
    "\n",
    "plt.plot([0, 1], [0, 1], 'k--', lw=2)\n",
    "plt.xlim([0.0, 1.0])\n",
    "plt.ylim([0.0, 1.05])\n",
    "plt.xlabel('False Positive Rate')\n",
    "plt.ylabel('True Positive Rate')\n",
    "plt.title('ROC')\n",
    "plt.legend(loc=\"lower right\")\n",
    "plt.tight_layout()\n",
    "plt.savefig('ROC.png')\n",
    "plt.show()"
   ]
  },
  {
   "cell_type": "code",
   "execution_count": 255,
   "metadata": {},
   "outputs": [
    {
     "data": {
      "image/png": "[encoded data removed]",
      "text/plain": [
       "<Figure size 576x396 with 1 Axes>"
      ]
     },
     "metadata": {},
     "output_type": "display_data"
    }
   ],
   "source": [
    "# Plotting the loss over time\n",
    "plt.plot(rnn_history.history['loss']) \n",
    "plt.plot(rnn_history.history['val_loss']) \n",
    "plt.title('Model loss') \n",
    "plt.ylabel('Loss') \n",
    "plt.xlabel('Epoch') \n",
    "plt.legend(['Train', 'Validation'], loc='upper left') \n",
    "plt.show()"
   ]
  },
  {
   "cell_type": "code",
   "execution_count": 256,
   "metadata": {},
   "outputs": [
    {
     "data": {
      "image/png": "[encoded data removed]",
      "text/plain": [
       "<Figure size 576x396 with 1 Axes>"
      ]
     },
     "metadata": {},
     "output_type": "display_data"
    }
   ],
   "source": [
    "# Plotting the accuracy over time\n",
    "plt.plot(rnn_history.history['accuracy']) \n",
    "plt.plot(rnn_history.history['val_accuracy']) \n",
    "plt.title('Model Accuracy') \n",
    "plt.ylabel('Accuracy') \n",
    "plt.xlabel('Epoch') \n",
    "plt.legend(['Train', 'Validation'], loc='upper left') \n",
    "plt.show()"
   ]
  },
  {
   "cell_type": "code",
   "execution_count": null,
   "metadata": {},
   "outputs": [],
   "source": []
  }
 ],
 "metadata": {
  "kernelspec": {
   "display_name": "Python 3",
   "language": "python",
   "name": "python3"
  },
  "language_info": {
   "codemirror_mode": {
    "name": "ipython",
    "version": 3
   },
   "file_extension": ".py",
   "mimetype": "text/x-python",
   "name": "python",
   "nbconvert_exporter": "python",
   "pygments_lexer": "ipython3",
   "version": "3.6.10"
  }
 },
 "nbformat": 4,
 "nbformat_minor": 4
}
